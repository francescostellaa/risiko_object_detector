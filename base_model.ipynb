{
 "cells": [
  {
   "cell_type": "code",
   "execution_count": 132,
   "metadata": {},
   "outputs": [],
   "source": [
    "import torch\n",
    "from torch import nn\n",
    "from torch.utils.data import DataLoader\n",
    "from torchvision import datasets\n",
    "from torchvision import transforms\n",
    "from torchvision.io import read_image\n",
    "import os\n",
    "import PIL\n",
    "from PIL import Image\n",
    "from torchvision.transforms import v2\n",
    "import numpy as np\n",
    "from torch.utils.data.sampler import SubsetRandomSampler\n"
   ]
  },
  {
   "cell_type": "code",
   "execution_count": 133,
   "metadata": {},
   "outputs": [],
   "source": [
    "batch_size = 32\n",
    "# Define transformations\n",
    "transform = transforms.Compose([\n",
    "    transforms.Resize((48, 48)),\n",
    "    transforms.ToTensor(),\n",
    "    transforms.Normalize(mean=[0.485, 0.456, 0.406], std=[0.229, 0.224, 0.225]) \n",
    "])\n",
    "\n",
    "\n",
    "class CustomDataset(torch.utils.data.Dataset):\n",
    "    def __init__(self, images_dir, labels_dir, transform=None):\n",
    "        self.images_dir = images_dir\n",
    "        self.labels_dir = labels_dir\n",
    "        self.transform = transform\n",
    "\n",
    "        self.images_files = sorted(os.listdir(\"crop_dataset/images\"))\n",
    "        self.labels_files = sorted(os.listdir(\"crop_dataset/labels\"))\n",
    "\n",
    "    def __len__(self):\n",
    "        return len(self.images_files)\n",
    "    \n",
    "    def __getitem__(self, k):\n",
    "        \n",
    "        image_name = self.images_files[k]\n",
    "        image_path = os.path.join(self.images_dir, image_name)\n",
    "        image = Image.open(image_path).convert(\"RGB\")\n",
    "        if self.transform:\n",
    "            image = self.transform(image)\n",
    "\n",
    "        label_name = self.labels_files[k]\n",
    "        label_path = os.path.join(self.labels_dir, label_name)\n",
    "        with open(label_path, 'r') as file:\n",
    "            label = int(file.readline().split()[0]) # read only first word of the label.txt file, the class\n",
    "\n",
    "        return image, label"
   ]
  },
  {
   "cell_type": "code",
   "execution_count": 134,
   "metadata": {},
   "outputs": [
    {
     "name": "stdout",
     "output_type": "stream",
     "text": [
      "Batch of images shape: torch.Size([32, 3, 48, 48])\n",
      "Batch of labels: tensor([ 4,  5,  0,  3,  1,  4,  1,  0,  0,  1,  2,  8,  1,  2,  3,  1,  6,  0,\n",
      "         5,  1, 10,  3,  1,  4,  1,  0,  4,  5, 11,  2,  3,  1])\n"
     ]
    }
   ],
   "source": [
    "#print(len(os.listdir(\"crop_dataset/images\"))) = 53157 (without background images)\n",
    "#dataset contains 1662 batch, each one of size 32\n",
    "#Total = 1662*32 = 53184\n",
    "data = CustomDataset(\"crop_dataset/images\", \"crop_dataset/labels\", transform=transform)\n",
    "#train data and val data split\n",
    "train_size = int(len(data) * 0.7)\n",
    "val_size = len(data)- train_size\n",
    "train_set, val_set = torch.utils.data.random_split(data, [train_size, val_size])\n",
    "\n",
    "train_data = DataLoader(train_set, batch_size=batch_size)\n",
    "val_data = DataLoader(val_set, batch_size=batch_size)\n",
    "\n",
    "# Iterate over the DataLoader\n",
    "for batch in train_data:\n",
    "    images, labels = batch\n",
    "    print(\"Batch of images shape:\", images.shape)\n",
    "    print(\"Batch of labels:\", labels)\n",
    "    break"
   ]
  },
  {
   "cell_type": "code",
   "execution_count": 135,
   "metadata": {},
   "outputs": [
    {
     "name": "stdout",
     "output_type": "stream",
     "text": [
      "Using mps device\n"
     ]
    }
   ],
   "source": [
    "# Get cpu, gpu or mps device for training.\n",
    "device = (\n",
    "    \"cuda\"\n",
    "    if torch.cuda.is_available()\n",
    "    else \"mps\"\n",
    "    if torch.backends.mps.is_available()\n",
    "    else \"cpu\"\n",
    ")\n",
    "print(f\"Using {device} device\")"
   ]
  },
  {
   "cell_type": "code",
   "execution_count": 136,
   "metadata": {},
   "outputs": [
    {
     "name": "stdout",
     "output_type": "stream",
     "text": [
      "SimpleNet(\n",
      "  (mod1): Sequential(\n",
      "    (0): Conv2d(3, 3, kernel_size=(2, 2), stride=(1, 1))\n",
      "    (1): ReLU()\n",
      "    (2): Conv2d(3, 3, kernel_size=(2, 2), stride=(1, 1))\n",
      "    (3): ReLU()\n",
      "    (4): Flatten(start_dim=1, end_dim=-1)\n",
      "    (5): Linear(in_features=6348, out_features=12, bias=True)\n",
      "  )\n",
      ")\n"
     ]
    }
   ],
   "source": [
    "# Define model\n",
    "class SimpleNet(nn.Module):\n",
    "    # def __init__(self):\n",
    "    #     super().__init__()\n",
    "    #     self.flatten = nn.Flatten()\n",
    "    #     self.linear_relu_stack = nn.Sequential(\n",
    "    #         nn.Linear(48*48*3, 128),\n",
    "    #         nn.ReLU(),\n",
    "    #         nn.Linear(128, 12),\n",
    "    #     )\n",
    "    \n",
    "    def __init__(self):\n",
    "        super().__init__()\n",
    "        self.mod1 = nn.Sequential(\n",
    "            nn.Conv2d(3, 3, (2,2), 1),\n",
    "            nn.ReLU(),\n",
    "            nn.Conv2d(3, 3, (2,2), 1),\n",
    "            nn.ReLU(),\n",
    "            nn.Flatten(),\n",
    "            nn.Linear(6348, 12)\n",
    "        )\n",
    "\n",
    "    def forward(self, image):\n",
    "        x = self.mod1(image)\n",
    "        #x = nn.Flatten()\n",
    "        return x\n",
    "\n",
    "model = SimpleNet().to(device)\n",
    "print(model)"
   ]
  },
  {
   "cell_type": "code",
   "execution_count": 137,
   "metadata": {},
   "outputs": [],
   "source": [
    "loss_fn = nn.CrossEntropyLoss()\n",
    "optimizer = torch.optim.Adam(model.parameters(), lr=1e-3)\n",
    "#optimizer = torch.optim.SGD(model.parameters(), lr=1e-3)"
   ]
  },
  {
   "cell_type": "code",
   "execution_count": 138,
   "metadata": {},
   "outputs": [],
   "source": [
    "def train(data, model, loss_fn, optimizer):\n",
    "    size = len(data.dataset)\n",
    "    model.train()\n",
    "    batch_count = 1\n",
    "    correct = 0\n",
    "    loss_sum = 0\n",
    "    for batch, pairs in enumerate(data):\n",
    "        images, labels = pairs[0].to(device), pairs[1].to(device)\n",
    "\n",
    "        # Compute prediction error\n",
    "        pred = model(images)\n",
    "        loss = loss_fn(pred, labels)\n",
    "\n",
    "        loss_sum += loss.item()\n",
    "\n",
    "        # Backpropagation\n",
    "        loss.backward()\n",
    "        optimizer.step()\n",
    "        optimizer.zero_grad()\n",
    "\n",
    "        correct += (pred.argmax(1) == labels).type(torch.float).sum().item()\n",
    "\n",
    "        #if batch_count % 800 == 0:\n",
    "        # if batch_count == batch_num:\n",
    "        #     loss, current = loss.item(), (batch_count) * len(images)\n",
    "        #     print(f\"loss: {loss:>7f}  [{current:>5d}/{size:>5d}]\")\n",
    "        batch_count += 1\n",
    "    loss_sum /= batch_count\n",
    "    correct /= size\n",
    "    print(f\"Training Error: \\n Accuracy: {(100*correct):>0.1f}%, Average Loss: {loss_sum:>8f}\")"
   ]
  },
  {
   "cell_type": "code",
   "execution_count": 139,
   "metadata": {},
   "outputs": [],
   "source": [
    "def test(data, model, loss_fn):\n",
    "    size = len(data.dataset)\n",
    "    num_batches = len(data)\n",
    "    model.eval()\n",
    "    test_loss, correct = 0, 0\n",
    "    batch_count = 0\n",
    "    with torch.no_grad():\n",
    "        for batch in data:\n",
    "            images, labels = batch\n",
    "            images, labels = images.to(device), labels.to(device)\n",
    "\n",
    "            # Compute prediction error\n",
    "            pred = model(images)\n",
    "            test_loss += loss_fn(pred, labels).item()\n",
    "            correct += (pred.argmax(1) == labels).type(torch.float).sum().item()\n",
    "    test_loss /= num_batches\n",
    "    correct /= size\n",
    "    print(f\"Test Error: \\n Accuracy: {(100*correct):>0.1f}%, Avg loss: {test_loss:>8f} \\n\")"
   ]
  },
  {
   "cell_type": "code",
   "execution_count": 140,
   "metadata": {},
   "outputs": [
    {
     "name": "stdout",
     "output_type": "stream",
     "text": [
      "Epoch 1\n",
      "-------------------------------\n",
      "Training Error: \n",
      " Accuracy: 74.6%, Average Loss: 0.883234\n",
      "Test Error: \n",
      " Accuracy: 79.5%, Avg loss: 0.726687 \n",
      "\n",
      "Epoch 2\n",
      "-------------------------------\n",
      "Training Error: \n",
      " Accuracy: 81.0%, Average Loss: 0.668729\n",
      "Test Error: \n",
      " Accuracy: 80.9%, Avg loss: 0.666732 \n",
      "\n",
      "Epoch 3\n",
      "-------------------------------\n",
      "Training Error: \n",
      " Accuracy: 82.8%, Average Loss: 0.601689\n",
      "Test Error: \n",
      " Accuracy: 81.3%, Avg loss: 0.642784 \n",
      "\n",
      "Epoch 4\n",
      "-------------------------------\n",
      "Training Error: \n",
      " Accuracy: 84.0%, Average Loss: 0.554762\n",
      "Test Error: \n",
      " Accuracy: 81.4%, Avg loss: 0.634755 \n",
      "\n",
      "Epoch 5\n",
      "-------------------------------\n",
      "Training Error: \n",
      " Accuracy: 85.1%, Average Loss: 0.515557\n",
      "Test Error: \n",
      " Accuracy: 81.3%, Avg loss: 0.638317 \n",
      "\n",
      "Done!\n"
     ]
    }
   ],
   "source": [
    "epochs = 5\n",
    "for t in range(epochs):\n",
    "    print(f\"Epoch {t+1}\\n-------------------------------\")\n",
    "    train(train_data, model, loss_fn, optimizer)\n",
    "    test(val_data, model, loss_fn)\n",
    "print(\"Done!\")"
   ]
  },
  {
   "cell_type": "code",
   "execution_count": null,
   "metadata": {},
   "outputs": [],
   "source": []
  }
 ],
 "metadata": {
  "kernelspec": {
   "display_name": "pytorch",
   "language": "python",
   "name": "python3"
  },
  "language_info": {
   "codemirror_mode": {
    "name": "ipython",
    "version": 3
   },
   "file_extension": ".py",
   "mimetype": "text/x-python",
   "name": "python",
   "nbconvert_exporter": "python",
   "pygments_lexer": "ipython3",
   "version": "3.11.9"
  }
 },
 "nbformat": 4,
 "nbformat_minor": 2
}
