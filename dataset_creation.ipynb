{
 "cells": [
  {
   "cell_type": "code",
   "execution_count": 39,
   "metadata": {},
   "outputs": [],
   "source": [
    "#Sometimes values are outside of the image, so we correct them\n",
    "def in_margins(x: int, margin: int) -> int:\n",
    "    if x < 0:\n",
    "        return 0\n",
    "    if x > margin:\n",
    "        return margin\n",
    "    return x"
   ]
  },
  {
   "cell_type": "code",
   "execution_count": 40,
   "metadata": {},
   "outputs": [
    {
     "ename": "NameError",
     "evalue": "name 'x2_variation' is not defined",
     "output_type": "error",
     "traceback": [
      "\u001b[1;31m---------------------------------------------------------------------------\u001b[0m",
      "\u001b[1;31mNameError\u001b[0m                                 Traceback (most recent call last)",
      "Cell \u001b[1;32mIn[40], line 87\u001b[0m\n\u001b[0;32m     84\u001b[0m output_images_dir \u001b[38;5;241m=\u001b[39m \u001b[38;5;124m'\u001b[39m\u001b[38;5;124mMixed/images\u001b[39m\u001b[38;5;124m'\u001b[39m\n\u001b[0;32m     85\u001b[0m output_labels_dir \u001b[38;5;241m=\u001b[39m \u001b[38;5;124m'\u001b[39m\u001b[38;5;124mMixed/labels\u001b[39m\u001b[38;5;124m'\u001b[39m\n\u001b[1;32m---> 87\u001b[0m dataset \u001b[38;5;241m=\u001b[39m \u001b[43mTankOnlyDataset\u001b[49m\u001b[43m(\u001b[49m\u001b[43mimages_dir\u001b[49m\u001b[43m,\u001b[49m\u001b[43m \u001b[49m\u001b[43mlabels_dir\u001b[49m\u001b[43m,\u001b[49m\u001b[43m \u001b[49m\u001b[43moutput_images_dir\u001b[49m\u001b[43m,\u001b[49m\u001b[43m \u001b[49m\u001b[43moutput_labels_dir\u001b[49m\u001b[43m)\u001b[49m\n",
      "Cell \u001b[1;32mIn[40], line 18\u001b[0m, in \u001b[0;36mTankOnlyDataset.__init__\u001b[1;34m(self, images_dir, labels_dir, output_images_dir, output_labels_dir)\u001b[0m\n\u001b[0;32m     15\u001b[0m os\u001b[38;5;241m.\u001b[39mmakedirs(output_labels_dir, exist_ok\u001b[38;5;241m=\u001b[39m\u001b[38;5;28;01mTrue\u001b[39;00m)\n\u001b[0;32m     17\u001b[0m \u001b[38;5;66;03m# Generate images and labels\u001b[39;00m\n\u001b[1;32m---> 18\u001b[0m \u001b[38;5;28;43mself\u001b[39;49m\u001b[38;5;241;43m.\u001b[39;49m\u001b[43mgenerate_images_and_labels\u001b[49m\u001b[43m(\u001b[49m\u001b[43m)\u001b[49m\n",
      "Cell \u001b[1;32mIn[40], line 76\u001b[0m, in \u001b[0;36mTankOnlyDataset.generate_images_and_labels\u001b[1;34m(self)\u001b[0m\n\u001b[0;32m     74\u001b[0m     label_txt_path \u001b[38;5;241m=\u001b[39m os\u001b[38;5;241m.\u001b[39mpath\u001b[38;5;241m.\u001b[39mjoin(\u001b[38;5;28mself\u001b[39m\u001b[38;5;241m.\u001b[39moutput_labels_dir, label_txt_name)\n\u001b[0;32m     75\u001b[0m     \u001b[38;5;28;01mwith\u001b[39;00m \u001b[38;5;28mopen\u001b[39m(label_txt_path, \u001b[38;5;124m'\u001b[39m\u001b[38;5;124mw\u001b[39m\u001b[38;5;124m'\u001b[39m) \u001b[38;5;28;01mas\u001b[39;00m label_file:\n\u001b[1;32m---> 76\u001b[0m         label_file\u001b[38;5;241m.\u001b[39mwrite(\u001b[38;5;124mf\u001b[39m\u001b[38;5;124m\"\u001b[39m\u001b[38;5;132;01m{\u001b[39;00mclass_label\u001b[38;5;132;01m}\u001b[39;00m\u001b[38;5;124m \u001b[39m\u001b[38;5;132;01m{\u001b[39;00mx1_variation\u001b[38;5;132;01m}\u001b[39;00m\u001b[38;5;124m \u001b[39m\u001b[38;5;132;01m{\u001b[39;00my1_variation\u001b[38;5;132;01m}\u001b[39;00m\u001b[38;5;124m \u001b[39m\u001b[38;5;132;01m{\u001b[39;00m\u001b[43mx2_variation\u001b[49m\u001b[38;5;132;01m}\u001b[39;00m\u001b[38;5;124m \u001b[39m\u001b[38;5;132;01m{\u001b[39;00my2_variation\u001b[38;5;132;01m}\u001b[39;00m\u001b[38;5;130;01m\\n\u001b[39;00m\u001b[38;5;124m\"\u001b[39m)\n\u001b[0;32m     77\u001b[0m \u001b[38;5;28;01melse\u001b[39;00m:\n\u001b[0;32m     78\u001b[0m     \u001b[38;5;28mprint\u001b[39m(\u001b[38;5;124mf\u001b[39m\u001b[38;5;124m\"\u001b[39m\u001b[38;5;124mWarning: Empty image detected for \u001b[39m\u001b[38;5;132;01m{\u001b[39;00mimg_name\u001b[38;5;132;01m}\u001b[39;00m\u001b[38;5;124m, skipping...\u001b[39m\u001b[38;5;124m\"\u001b[39m)\n",
      "\u001b[1;31mNameError\u001b[0m: name 'x2_variation' is not defined"
     ]
    }
   ],
   "source": [
    "import os\n",
    "from PIL import Image\n",
    "import matplotlib.pyplot as plt\n",
    "import random as rand\n",
    "\n",
    "class TankOnlyDataset:\n",
    "    def __init__(self, images_dir, labels_dir, output_images_dir, output_labels_dir):\n",
    "        self.images_dir = images_dir\n",
    "        self.labels_dir = labels_dir\n",
    "        self.output_images_dir = output_images_dir\n",
    "        self.output_labels_dir = output_labels_dir\n",
    "        \n",
    "        # Ensure output directories exist\n",
    "        os.makedirs(output_images_dir, exist_ok=True)\n",
    "        os.makedirs(output_labels_dir, exist_ok=True)\n",
    "        \n",
    "        # Generate images and labels\n",
    "        self.generate_images_and_labels()\n",
    "\n",
    "    def generate_images_and_labels(self):\n",
    "        image_files = os.listdir(self.images_dir)\n",
    "        \n",
    "        percentage_variation_parameter = 33 #Use this to change border position randomly of a x percentage\n",
    "        \n",
    "        def random_border_variation(percentage_variation):\n",
    "            variation=0\n",
    "            if percentage_variation != 0:\n",
    "                variation = (rand.randint(0,percentage_variation*2)-percentage_variation*0.8)/100\n",
    "            return 1+variation\n",
    "        \n",
    "        for img_name in image_files:\n",
    "            # Load image\n",
    "            image_path = os.path.join(self.images_dir, img_name)\n",
    "            image = Image.open(image_path)\n",
    "            \n",
    "            # Load labels from corresponding file\n",
    "            label_path = os.path.join(self.labels_dir, img_name.replace('.jpg', '.txt'))\n",
    "            with open(label_path, 'r') as file:\n",
    "                lines = file.readlines()\n",
    "                \n",
    "            for i, line in enumerate(lines):\n",
    "                # Parse label information\n",
    "                parts = line.split()\n",
    "                class_label = parts[0]\n",
    "                x_center = int(float(parts[1]) * image.width)\n",
    "                y_center = int(float(parts[2]) * image.height)\n",
    "                width = int(float(parts[3]) * image.width)\n",
    "                height = int(float(parts[4]) * image.height)\n",
    "                \n",
    "                # Calculate bounding box coordinates\n",
    "                x1_variation=random_border_variation(percentage_variation_parameter)\n",
    "                x1 = max(0, x_center - width* x1_variation // 2)\n",
    "                \n",
    "                y1_variation=random_border_variation(percentage_variation_parameter)\n",
    "                y1 = max(0, y_center - height* y1_variation // 2)\n",
    "                \n",
    "                x2 = min(image.width, x_center + width* (2-x1_variation) // 2)\n",
    "                \n",
    "                y2 = min(image.height, y_center + height* (2*y1_variation) // 2)\n",
    "                \n",
    "                if y2-y1>x2-x1:\n",
    "                    x2=x1+y2-y1\n",
    "                else:\n",
    "                    y2=y1+x2-x1\n",
    "                # Check if cropped image dimensions are valid\n",
    "                if x1 < x2 and y1 < y2:\n",
    "                    # Crop and save the image\n",
    "                    cropped_image = image.crop((x1, y1, x2, y2))\n",
    "                    cropped_img_name = f\"{os.path.splitext(img_name)[0]}_{i}.jpg\"\n",
    "                    cropped_image.save(os.path.join(self.output_images_dir, cropped_img_name))\n",
    "                    \n",
    "                    # Save label information to txt file\n",
    "                    label_txt_name = f\"{os.path.splitext(img_name)[0]}_{i}.txt\"\n",
    "                    label_txt_path = os.path.join(self.output_labels_dir, label_txt_name)\n",
    "                    with open(label_txt_path, 'w') as label_file:\n",
    "                        label_file.write(f\"{class_label} {x1_variation} {y1_variation} {x_center} {y_center}\\n\")\n",
    "                else:\n",
    "                    print(f\"Warning: Empty image detected for {img_name}, skipping...\")\n",
    "                    \n",
    "\n",
    "# Example usage\n",
    "images_dir = 'synthetic_images/images'\n",
    "labels_dir = 'synthetic_images/labels'\n",
    "output_images_dir = 'Mixed/images'\n",
    "output_labels_dir = 'Mixed/labels'\n",
    "\n",
    "dataset = TankOnlyDataset(images_dir, labels_dir, output_images_dir, output_labels_dir)\n",
    "\n"
   ]
  },
  {
   "cell_type": "code",
   "execution_count": null,
   "metadata": {},
   "outputs": [
    {
     "data": {
      "text/plain": [
       "<__main__.BackgroundOnlyDataset at 0x16f068aec10>"
      ]
     },
     "execution_count": 33,
     "metadata": {},
     "output_type": "execute_result"
    }
   ],
   "source": [
    "class BackgroundOnlyDataset:\n",
    "    def __init__(self, generated_backgrounds, images_dir, output_images_dir, output_labels_dir):\n",
    "        self.generated_backgrounds = generated_backgrounds\n",
    "        self.images_dir = images_dir\n",
    "        self.output_images_dir = output_images_dir\n",
    "        self.output_labels_dir = output_labels_dir\n",
    "        \n",
    "        # Ensure output directories exist\n",
    "        os.makedirs(output_images_dir, exist_ok=True)\n",
    "        os.makedirs(output_labels_dir, exist_ok=True)\n",
    "        \n",
    "        # Generate images and labels\n",
    "        self.generate_images_and_labels(generated_backgrounds)\n",
    "\n",
    "    def generate_images_and_labels(self,generated_backgrounds):\n",
    "        image_files = os.listdir(self.images_dir)\n",
    "        \n",
    "        \n",
    "        def random_background_borders(width,height):\n",
    "            x_center = rand.randint(0,width)\n",
    "            y_center = rand.randint(0,height)\n",
    "            first_variation = rand.randint(0, width//6)\n",
    "            second_variation = rand.randint(0, width//6)\n",
    "            x1 = max(0,x_center-first_variation)\n",
    "            y1 = max(0,y_center-first_variation)\n",
    "            x2 = min(width,x_center+second_variation)\n",
    "            y2 = min(height,y_center+second_variation)\n",
    "            return x1,y1,x2,y2\n",
    "            \n",
    "        for img_name in image_files:\n",
    "            # Load image\n",
    "            image_path = os.path.join(self.images_dir, img_name)\n",
    "            if image_path.endswith((\".jpg\",\".png\",\"JPG\",\"PNG\")):\n",
    "                image = Image.open(image_path)\n",
    "                \n",
    "                for i in range(0,generated_backgrounds):\n",
    "                    x1,y1,x2,y2 = random_background_borders(image.width,image.height)\n",
    "                    \n",
    "                    # Check if cropped image dimensions are valid\n",
    "                    if x1 < x2 and y1 < y2:\n",
    "                        # Crop and save the image\n",
    "                        cropped_image = image.crop((x1, y1, x2, y2))\n",
    "                        cropped_img_name = f\"{os.path.splitext(img_name)[0]}_{i}.jpg\"\n",
    "                        cropped_image.save(os.path.join(self.output_images_dir, cropped_img_name))\n",
    "                        \n",
    "                        # Save label information to txt file\n",
    "                        label_txt_name = f\"{os.path.splitext(img_name)[0]}_{i}.txt\"\n",
    "                        label_txt_path = os.path.join(self.output_labels_dir, label_txt_name)\n",
    "                        with open(label_txt_path, 'w') as label_file:\n",
    "                            label_file.write(f\"{12}\\n\")\n",
    "                    else:\n",
    "                        print(f\"Warning: Empty image detected for {img_name}, skipping...\")\n",
    "                    \n",
    "\n",
    "# Example usage\n",
    "images_dir_risikotable = 'backgrounds'\n",
    "images_dir_general = 'backgrounds/General/'\n",
    "output_images_dir = 'Mixed/images'\n",
    "output_labels_dir = 'Mixed/labels'\n",
    "\n",
    "BackgroundOnlyDataset(100, images_dir_risikotable, output_images_dir, output_labels_dir)\n",
    "BackgroundOnlyDataset(2, images_dir_general, output_images_dir, output_labels_dir)\n"
   ]
  },
  {
   "cell_type": "code",
   "execution_count": null,
   "metadata": {},
   "outputs": [
    {
     "name": "stdout",
     "output_type": "stream",
     "text": [
      "5077\n",
      "5077\n"
     ]
    }
   ],
   "source": [
    "#dataset = CustomDataset(images_dir, labels_dir, output_images_dir, output_labels_dir)\n",
    "\n",
    "print(len(os.listdir('crop_dataset/images')))\n",
    "print(len(os.listdir('crop_dataset/labels')))"
   ]
  },
  {
   "cell_type": "code",
   "execution_count": null,
   "metadata": {},
   "outputs": [
    {
     "data": {
      "image/png": "[encoded data removed]",
      "text/plain": [
       "<Figure size 640x480 with 1 Axes>"
      ]
     },
     "metadata": {},
     "output_type": "display_data"
    }
   ],
   "source": [
    "import os\n",
    "import matplotlib.pyplot as plt\n",
    "\n",
    "# Define the directory containing the labels files\n",
    "labels_dir = 'Mixed/labels'\n",
    "\n",
    "# Initialize a dictionary to store label counts with all possible labels\n",
    "all_labels = [str(i) for i in range(13)]  # Assuming labels are numbers from 0 to 11\n",
    "label_counts = {label: 0 for label in all_labels}\n",
    "\n",
    "# Iterate over all text files in the labels folder\n",
    "for label_file in os.listdir(labels_dir):\n",
    "    # Read the contents of the label file\n",
    "    label_file_path = os.path.join(labels_dir, label_file)\n",
    "    with open(label_file_path, 'r') as file:\n",
    "        label = file.readlines(0)\n",
    "        label = label[0].split()\n",
    "        label_counts[label[0]] = label_counts[label[0]] + 1\n",
    "\n",
    "# Plot the histogram of label counts\n",
    "plt.bar(label_counts.keys(), label_counts.values())\n",
    "plt.xlabel('Label')\n",
    "plt.ylabel('Count')\n",
    "plt.title('Histogram of Label Counts')\n",
    "plt.xticks(rotation=45)\n",
    "\n",
    "# Set y-axis limits to start from zero\n",
    "plt.ylim(0)\n",
    "\n",
    "plt.show()\n",
    "\n"
   ]
  },
  {
   "cell_type": "code",
   "execution_count": null,
   "metadata": {},
   "outputs": [
    {
     "name": "stdout",
     "output_type": "stream",
     "text": [
      "dict_values([680, 640, 676, 690, 700, 644, 189, 170, 185, 152, 163, 188, 5154])\n",
      "0 680\n",
      "1 640\n",
      "2 676\n",
      "3 690\n",
      "4 700\n",
      "5 644\n",
      "6 189\n",
      "7 170\n",
      "8 185\n",
      "9 152\n",
      "10 163\n",
      "11 188\n",
      "12 5154\n"
     ]
    }
   ],
   "source": [
    "print((label_counts.values()), sep=\"\\n\")\n",
    "for key, value in zip(label_counts.keys(), label_counts.values()):\n",
    "    print(key, value)"
   ]
  },
  {
   "cell_type": "code",
   "execution_count": null,
   "metadata": {},
   "outputs": [],
   "source": []
  }
 ],
 "metadata": {
  "kernelspec": {
   "display_name": "pytorch",
   "language": "python",
   "name": "python3"
  },
  "language_info": {
   "codemirror_mode": {
    "name": "ipython",
    "version": 3
   },
   "file_extension": ".py",
   "mimetype": "text/x-python",
   "name": "python",
   "nbconvert_exporter": "python",
   "pygments_lexer": "ipython3",
   "version": "3.11.0"
  }
 },
 "nbformat": 4,
 "nbformat_minor": 2
}
