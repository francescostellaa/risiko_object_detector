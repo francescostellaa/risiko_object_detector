{
 "cells": [
  {
   "cell_type": "code",
   "execution_count": 5,
   "metadata": {},
   "outputs": [],
   "source": [
    "#Sometimes values are outside of the image, so we correct them\n",
    "def in_margins(x: int, margin: int) -> int:\n",
    "    if x < 0:\n",
    "        return 0\n",
    "    if x > margin:\n",
    "        return margin\n",
    "    return x"
   ]
  },
  {
   "cell_type": "code",
   "execution_count": 6,
   "metadata": {},
   "outputs": [
    {
     "name": "stdout",
     "output_type": "stream",
     "text": [
      "Warning: Empty image detected for 000224.jpg, skipping...\n",
      "Warning: Empty image detected for 000231.jpg, skipping...\n",
      "Warning: Empty image detected for 000390.jpg, skipping...\n",
      "Warning: Empty image detected for 000781.jpg, skipping...\n",
      "Warning: Empty image detected for 000568.jpg, skipping...\n",
      "Warning: Empty image detected for 000154.jpg, skipping...\n",
      "Warning: Empty image detected for 000395.jpg, skipping...\n",
      "Warning: Empty image detected for 000343.jpg, skipping...\n",
      "Warning: Empty image detected for 000023.jpg, skipping...\n",
      "Warning: Empty image detected for 000963.jpg, skipping...\n",
      "Warning: Empty image detected for 000441.jpg, skipping...\n",
      "Warning: Empty image detected for 000253.jpg, skipping...\n",
      "Warning: Empty image detected for 000483.jpg, skipping...\n",
      "Warning: Empty image detected for 000440.jpg, skipping...\n",
      "Warning: Empty image detected for 000640.jpg, skipping...\n",
      "Warning: Empty image detected for 000287.jpg, skipping...\n",
      "Warning: Empty image detected for 000641.jpg, skipping...\n",
      "Warning: Empty image detected for 000641.jpg, skipping...\n",
      "Warning: Empty image detected for 000916.jpg, skipping...\n",
      "Warning: Empty image detected for 000042.jpg, skipping...\n",
      "Warning: Empty image detected for 000297.jpg, skipping...\n",
      "Warning: Empty image detected for 000334.jpg, skipping...\n",
      "Warning: Empty image detected for 000105.jpg, skipping...\n",
      "Warning: Empty image detected for 000072.jpg, skipping...\n",
      "Warning: Empty image detected for 000714.jpg, skipping...\n",
      "Warning: Empty image detected for 000088.jpg, skipping...\n",
      "Warning: Empty image detected for 000868.jpg, skipping...\n",
      "Warning: Empty image detected for 000511.jpg, skipping...\n",
      "Warning: Empty image detected for 000707.jpg, skipping...\n",
      "Warning: Empty image detected for 000464.jpg, skipping...\n",
      "Warning: Empty image detected for 000128.jpg, skipping...\n",
      "Warning: Empty image detected for 000210.jpg, skipping...\n",
      "Warning: Empty image detected for 000548.jpg, skipping...\n",
      "Warning: Empty image detected for 000951.jpg, skipping...\n",
      "Warning: Empty image detected for 000767.jpg, skipping...\n",
      "Warning: Empty image detected for 000564.jpg, skipping...\n",
      "Warning: Empty image detected for 000835.jpg, skipping...\n",
      "Warning: Empty image detected for 000610.jpg, skipping...\n",
      "Warning: Empty image detected for 000764.jpg, skipping...\n",
      "Warning: Empty image detected for 000770.jpg, skipping...\n",
      "Warning: Empty image detected for 000759.jpg, skipping...\n",
      "Warning: Empty image detected for 000188.jpg, skipping...\n"
     ]
    }
   ],
   "source": [
    "import os\n",
    "from PIL import Image\n",
    "import matplotlib.pyplot as plt\n",
    "\n",
    "class CustomDataset:\n",
    "    def __init__(self, images_dir, labels_dir, output_images_dir, output_labels_dir):\n",
    "        self.images_dir = images_dir\n",
    "        self.labels_dir = labels_dir\n",
    "        self.output_images_dir = output_images_dir\n",
    "        self.output_labels_dir = output_labels_dir\n",
    "        \n",
    "        # Ensure output directories exist\n",
    "        os.makedirs(output_images_dir, exist_ok=True)\n",
    "        os.makedirs(output_labels_dir, exist_ok=True)\n",
    "        \n",
    "        # Generate images and labels\n",
    "        self.generate_images_and_labels()\n",
    "\n",
    "    def generate_images_and_labels(self):\n",
    "        image_files = os.listdir(self.images_dir)\n",
    "        for img_name in image_files:\n",
    "            # Load image\n",
    "            image_path = os.path.join(self.images_dir, img_name)\n",
    "            image = Image.open(image_path)\n",
    "            \n",
    "            # Load labels from corresponding file\n",
    "            label_path = os.path.join(self.labels_dir, img_name.replace('.jpg', '.txt'))\n",
    "            with open(label_path, 'r') as file:\n",
    "                lines = file.readlines()\n",
    "\n",
    "            for i, line in enumerate(lines):\n",
    "                # Parse label information\n",
    "                parts = line.split()\n",
    "                class_label = parts[0]\n",
    "                x_center = int(float(parts[1]) * image.width)\n",
    "                y_center = int(float(parts[2]) * image.height)\n",
    "                width = int(float(parts[3]) * image.width)\n",
    "                height = int(float(parts[4]) * image.height)\n",
    "                \n",
    "                # Calculate bounding box coordinates\n",
    "                x1 = max(0, x_center - width // 2)\n",
    "                y1 = max(0, y_center - height // 2)\n",
    "                x2 = min(image.width, x_center + width // 2)\n",
    "                y2 = min(image.height, y_center + height // 2)\n",
    "                \n",
    "                # Check if cropped image dimensions are valid\n",
    "                if x1 < x2 and y1 < y2:\n",
    "                    # Crop and save the image\n",
    "                    cropped_image = image.crop((x1, y1, x2, y2))\n",
    "                    cropped_img_name = f\"{os.path.splitext(img_name)[0]}_{i}.jpg\"\n",
    "                    cropped_image.save(os.path.join(self.output_images_dir, cropped_img_name))\n",
    "                    \n",
    "                    # Save label information to txt file\n",
    "                    label_txt_name = f\"{os.path.splitext(img_name)[0]}_{i}.txt\"\n",
    "                    label_txt_path = os.path.join(self.output_labels_dir, label_txt_name)\n",
    "                    with open(label_txt_path, 'w') as label_file:\n",
    "                        label_file.write(f\"{class_label} {x1} {y1} {x2} {y2}\\n\")\n",
    "                else:\n",
    "                    print(f\"Warning: Empty image detected for {img_name}, skipping...\")\n",
    "                    \n",
    "\n",
    "# Example usage\n",
    "images_dir = 'synthetic_dataset/images'\n",
    "labels_dir = 'synthetic_dataset/labels'\n",
    "output_images_dir = 'crop_dataset/images'\n",
    "output_labels_dir = 'crop_dataset/labels'\n",
    "\n",
    "dataset = CustomDataset(images_dir, labels_dir, output_images_dir, output_labels_dir)\n",
    "\n"
   ]
  },
  {
   "cell_type": "code",
   "execution_count": 9,
   "metadata": {},
   "outputs": [
    {
     "name": "stdout",
     "output_type": "stream",
     "text": [
      "53157\n",
      "53157\n"
     ]
    }
   ],
   "source": [
    "#dataset = CustomDataset(images_dir, labels_dir, output_images_dir, output_labels_dir)\n",
    "\n",
    "print(len(os.listdir('crop_dataset/images')))\n",
    "print(len(os.listdir('crop_dataset/labels')))"
   ]
  },
  {
   "cell_type": "code",
   "execution_count": 23,
   "metadata": {},
   "outputs": [
    {
     "data": {
      "image/png": "[encoded data removed]",
      "text/plain": [
       "<Figure size 640x480 with 1 Axes>"
      ]
     },
     "metadata": {},
     "output_type": "display_data"
    }
   ],
   "source": [
    "import os\n",
    "import matplotlib.pyplot as plt\n",
    "\n",
    "# Define the directory containing the label files\n",
    "labels_dir = 'crop_dataset/labels'\n",
    "\n",
    "# Initialize a dictionary to store label counts with all possible labels\n",
    "all_labels = [str(i) for i in range(12)]  # Assuming labels are numbers from 0 to 11\n",
    "label_counts = {label: 0 for label in all_labels}\n",
    "\n",
    "# Iterate over all text files in the labels folder\n",
    "for label_file in os.listdir(labels_dir):\n",
    "    # Read the contents of the label file\n",
    "    label_file_path = os.path.join(labels_dir, label_file)\n",
    "    with open(label_file_path, 'r') as file:\n",
    "        label = file.readlines(0)\n",
    "        label = label[0].split()\n",
    "        label_counts[label[0]] = label_counts[label[0]] + 1\n",
    "\n",
    "# Plot the histogram of label counts\n",
    "plt.bar(label_counts.keys(), label_counts.values())\n",
    "plt.xlabel('Label')\n",
    "plt.ylabel('Count')\n",
    "plt.title('Histogram of Label Counts')\n",
    "plt.xticks(rotation=45)\n",
    "\n",
    "# Set y-axis limits to start from zero\n",
    "plt.ylim(0)\n",
    "\n",
    "plt.show()\n",
    "\n"
   ]
  },
  {
   "cell_type": "code",
   "execution_count": 32,
   "metadata": {},
   "outputs": [
    {
     "name": "stdout",
     "output_type": "stream",
     "text": [
      "dict_values([7137, 7072, 7099, 7023, 7161, 7086, 1816, 1783, 1748, 1697, 1783, 1752])\n",
      "0 7137\n",
      "1 7072\n",
      "2 7099\n",
      "3 7023\n",
      "4 7161\n",
      "5 7086\n",
      "6 1816\n",
      "7 1783\n",
      "8 1748\n",
      "9 1697\n",
      "10 1783\n",
      "11 1752\n"
     ]
    }
   ],
   "source": [
    "print((label_counts.values()), sep=\"\\n\")\n",
    "for key, value in zip(label_counts.keys(), label_counts.values()):\n",
    "    print(key, value)"
   ]
  },
  {
   "cell_type": "code",
   "execution_count": null,
   "metadata": {},
   "outputs": [],
   "source": []
  }
 ],
 "metadata": {
  "kernelspec": {
   "display_name": "pytorch",
   "language": "python",
   "name": "python3"
  },
  "language_info": {
   "codemirror_mode": {
    "name": "ipython",
    "version": 3
   },
   "file_extension": ".py",
   "mimetype": "text/x-python",
   "name": "python",
   "nbconvert_exporter": "python",
   "pygments_lexer": "ipython3",
   "version": "3.11.9"
  }
 },
 "nbformat": 4,
 "nbformat_minor": 2
}
