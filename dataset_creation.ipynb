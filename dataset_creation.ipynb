{
 "cells": [
  {
   "cell_type": "code",
   "execution_count": 1,
   "metadata": {},
   "outputs": [],
   "source": [
    "import os\n",
    "from PIL import Image\n",
    "import matplotlib.pyplot as plt\n",
    "import random as rand"
   ]
  },
  {
   "cell_type": "code",
   "execution_count": 2,
   "metadata": {},
   "outputs": [],
   "source": [
    "def random_border_variation(percentage_variation):\n",
    "    variation=0\n",
    "    if percentage_variation != 0:\n",
    "        variation = (rand.randint(0,percentage_variation*2)-percentage_variation*0.8)/100\n",
    "    return 1+variation\n",
    "\n",
    "class TankOnlyDataset:\n",
    "    def __init__(self, images_dir, labels_dir, output_images_dir, output_labels_dir):\n",
    "        self.images_dir = images_dir\n",
    "        self.labels_dir = labels_dir\n",
    "        self.output_images_dir = output_images_dir\n",
    "        self.output_labels_dir = output_labels_dir\n",
    "        \n",
    "        # Ensure output directories exist\n",
    "        os.makedirs(output_images_dir, exist_ok=True)\n",
    "        os.makedirs(output_labels_dir, exist_ok=True)\n",
    "        \n",
    "        # Generate images and labels\n",
    "        self.generate_images_and_labels()\n",
    "\n",
    "    def generate_images_and_labels(self):\n",
    "        image_files = os.listdir(self.images_dir)\n",
    "        \n",
    "        percentage_variation_parameter = 33 #Use this to change border position randomly of a x percentage\n",
    "        \n",
    "        for img_name in image_files:\n",
    "            # Load image\n",
    "            image_path = os.path.join(self.images_dir, img_name)\n",
    "            image = Image.open(image_path)\n",
    "            \n",
    "            # Load labels from corresponding file\n",
    "            label_path = os.path.join(self.labels_dir, img_name.replace('.jpg', '.txt'))\n",
    "            with open(label_path, 'r') as file:\n",
    "                lines = file.readlines()\n",
    "                \n",
    "            for i, line in enumerate(lines):\n",
    "                # Parse label information\n",
    "                parts = line.split()\n",
    "                class_label = parts[0]\n",
    "                x_center = int(float(parts[1]) * image.width)\n",
    "                y_center = int(float(parts[2]) * image.height)\n",
    "                width = int(float(parts[3]) * image.width)\n",
    "                height = int(float(parts[4]) * image.height)\n",
    "                \n",
    "                # Calculate bounding box coordinates\n",
    "                x1_variation=random_border_variation(percentage_variation_parameter)\n",
    "                x1 = max(0, x_center - width* x1_variation // 2)\n",
    "                \n",
    "                y1_variation=random_border_variation(percentage_variation_parameter)\n",
    "                y1 = max(0, y_center - height* y1_variation // 2)\n",
    "                \n",
    "                x2 = min(image.width, x_center + width* (2-x1_variation) // 2)\n",
    "                \n",
    "                y2 = min(image.height, y_center + height* (2*y1_variation) // 2)\n",
    "                \n",
    "                if y2-y1>x2-x1:\n",
    "                    x2=x1+y2-y1\n",
    "                else:\n",
    "                    y2=y1+x2-x1\n",
    "                # Check if cropped image dimensions are valid\n",
    "                if x1 < x2 and y1 < y2:\n",
    "                    # Crop and save the image\n",
    "                    cropped_image = image.crop((x1, y1, x2, y2))\n",
    "                    cropped_img_name = f\"{os.path.splitext(img_name)[0]}_{i}.jpg\"\n",
    "                    cropped_image.save(os.path.join(self.output_images_dir, cropped_img_name))\n",
    "                    \n",
    "                    # Save label information to txt file\n",
    "                    label_txt_name = f\"{os.path.splitext(img_name)[0]}_{i}.txt\"\n",
    "                    label_txt_path = os.path.join(self.output_labels_dir, label_txt_name)\n",
    "                    with open(label_txt_path, 'w') as label_file:\n",
    "                        label_file.write(f\"{class_label} {x1_variation} {y1_variation} {x_center} {y_center}\\n\")\n",
    "                else:\n",
    "                    print(f\"Warning: Empty image detected for {img_name}, skipping...\")\n",
    "                    \n",
    "\n",
    "# Example usage\n",
    "images_dir = 'synthetic_images/images'\n",
    "labels_dir = 'synthetic_images/labels'\n",
    "output_images_dir = 'Mixed/images'\n",
    "output_labels_dir = 'Mixed/labels'\n",
    "\n",
    "dataset = TankOnlyDataset(images_dir, labels_dir, output_images_dir, output_labels_dir)\n",
    "\n"
   ]
  },
  {
   "cell_type": "code",
   "execution_count": 4,
   "metadata": {},
   "outputs": [
    {
     "data": {
      "text/plain": [
       "<__main__.BackgroundOnlyDataset at 0x10ea37590>"
      ]
     },
     "execution_count": 4,
     "metadata": {},
     "output_type": "execute_result"
    }
   ],
   "source": [
    "def random_background_borders(width,height):\n",
    "    x_center = rand.randint(0,width)\n",
    "    y_center = rand.randint(0,height)\n",
    "    first_variation = rand.randint(0, width//6)\n",
    "    second_variation = rand.randint(0, width//6)\n",
    "    x1 = max(0,x_center-first_variation)\n",
    "    y1 = max(0,y_center-first_variation)\n",
    "    x2 = min(width,x_center+second_variation)\n",
    "    y2 = min(height,y_center+second_variation)\n",
    "    return x1,y1,x2,y2\n",
    "\n",
    "class BackgroundOnlyDataset:\n",
    "    def __init__(self, generated_backgrounds, images_dir, output_images_dir, output_labels_dir):\n",
    "        self.generated_backgrounds = generated_backgrounds\n",
    "        self.images_dir = images_dir\n",
    "        self.output_images_dir = output_images_dir\n",
    "        self.output_labels_dir = output_labels_dir\n",
    "        \n",
    "        # Ensure output directories exist\n",
    "        os.makedirs(output_images_dir, exist_ok=True)\n",
    "        os.makedirs(output_labels_dir, exist_ok=True)\n",
    "        \n",
    "        # Generate images and labels\n",
    "        self.generate_images_and_labels(generated_backgrounds)\n",
    "\n",
    "    def generate_images_and_labels(self,generated_backgrounds):\n",
    "        image_files = os.listdir(self.images_dir)\n",
    "            \n",
    "        for img_name in image_files:\n",
    "            # Load image\n",
    "            image_path = os.path.join(self.images_dir, img_name)\n",
    "            if image_path.endswith((\".jpg\",\".png\",\"JPG\",\"PNG\")):\n",
    "                image = Image.open(image_path)\n",
    "                \n",
    "                for i in range(0,generated_backgrounds):\n",
    "                    x1,y1,x2,y2 = random_background_borders(image.width,image.height)\n",
    "                    \n",
    "                    # Check if cropped image dimensions are valid\n",
    "                    if x1 < x2 and y1 < y2:\n",
    "                        # Crop and save the image\n",
    "                        cropped_image = image.crop((x1, y1, x2, y2))\n",
    "                        cropped_img_name = f\"{os.path.splitext(img_name)[0]}_{i}.jpg\"\n",
    "                        cropped_image.save(os.path.join(self.output_images_dir, cropped_img_name))\n",
    "                        \n",
    "                        # Save label information to txt file\n",
    "                        label_txt_name = f\"{os.path.splitext(img_name)[0]}_{i}.txt\"\n",
    "                        label_txt_path = os.path.join(self.output_labels_dir, label_txt_name)\n",
    "                        with open(label_txt_path, 'w') as label_file:\n",
    "                            label_file.write(f\"{12}\\n\")\n",
    "                    else:\n",
    "                        print(f\"Warning: Empty image detected for {img_name}, skipping...\")\n",
    "                    \n",
    "\n",
    "# Example usage\n",
    "images_dir_risikotable = 'backgrounds'\n",
    "images_dir_general = 'backgrounds/General/'\n",
    "output_images_dir = 'Mixed/images'\n",
    "output_labels_dir = 'Mixed/labels'\n",
    "\n",
    "BackgroundOnlyDataset(100, images_dir_risikotable, output_images_dir, output_labels_dir)\n",
    "BackgroundOnlyDataset(2, images_dir_general, output_images_dir, output_labels_dir)\n"
   ]
  },
  {
   "cell_type": "code",
   "execution_count": 5,
   "metadata": {},
   "outputs": [
    {
     "name": "stdout",
     "output_type": "stream",
     "text": [
      "53157\n",
      "53157\n"
     ]
    }
   ],
   "source": [
    "#dataset = CustomDataset(images_dir, labels_dir, output_images_dir, output_labels_dir)\n",
    "\n",
    "print(len(os.listdir('crop_dataset/images')))\n",
    "print(len(os.listdir('crop_dataset/labels')))"
   ]
  },
  {
   "cell_type": "code",
   "execution_count": 6,
   "metadata": {},
   "outputs": [
    {
     "data": {
      "image/png": "[encoded data removed]",
      "text/plain": [
       "<Figure size 640x480 with 1 Axes>"
      ]
     },
     "metadata": {},
     "output_type": "display_data"
    }
   ],
   "source": [
    "import os\n",
    "import matplotlib.pyplot as plt\n",
    "\n",
    "# Define the directory containing the labels files\n",
    "labels_dir = 'Mixed/labels'\n",
    "\n",
    "# Initialize a dictionary to store label counts with all possible labels\n",
    "all_labels = [str(i) for i in range(13)]  # Assuming labels are numbers from 0 to 11\n",
    "label_counts = {label: 0 for label in all_labels}\n",
    "\n",
    "# Iterate over all text files in the labels folder\n",
    "for label_file in os.listdir(labels_dir):\n",
    "    # Read the contents of the label file\n",
    "    label_file_path = os.path.join(labels_dir, label_file)\n",
    "    with open(label_file_path, 'r') as file:\n",
    "        label = file.readlines(0)\n",
    "        label = label[0].split()\n",
    "        label_counts[label[0]] = label_counts[label[0]] + 1\n",
    "\n",
    "# Plot the histogram of label counts\n",
    "plt.bar(label_counts.keys(), label_counts.values())\n",
    "plt.xlabel('Label')\n",
    "plt.ylabel('Count')\n",
    "plt.title('Histogram of Label Counts')\n",
    "plt.xticks(rotation=45)\n",
    "\n",
    "# Set y-axis limits to start from zero\n",
    "plt.ylim(0)\n",
    "\n",
    "plt.show()\n",
    "\n"
   ]
  },
  {
   "cell_type": "code",
   "execution_count": 7,
   "metadata": {},
   "outputs": [
    {
     "name": "stdout",
     "output_type": "stream",
     "text": [
      "dict_values([865, 818, 860, 887, 872, 819, 212, 195, 218, 194, 189, 221, 5154])\n",
      "0 865\n",
      "1 818\n",
      "2 860\n",
      "3 887\n",
      "4 872\n",
      "5 819\n",
      "6 212\n",
      "7 195\n",
      "8 218\n",
      "9 194\n",
      "10 189\n",
      "11 221\n",
      "12 5154\n"
     ]
    }
   ],
   "source": [
    "print((label_counts.values()), sep=\"\\n\")\n",
    "for key, value in zip(label_counts.keys(), label_counts.values()):\n",
    "    print(key, value)"
   ]
  },
  {
   "cell_type": "code",
   "execution_count": null,
   "metadata": {},
   "outputs": [],
   "source": []
  }
 ],
 "metadata": {
  "kernelspec": {
   "display_name": "pytorch",
   "language": "python",
   "name": "python3"
  },
  "language_info": {
   "codemirror_mode": {
    "name": "ipython",
    "version": 3
   },
   "file_extension": ".py",
   "mimetype": "text/x-python",
   "name": "python",
   "nbconvert_exporter": "python",
   "pygments_lexer": "ipython3",
   "version": "3.11.9"
  }
 },
 "nbformat": 4,
 "nbformat_minor": 2
}
